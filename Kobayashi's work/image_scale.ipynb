{
 "cells": [
  {
   "cell_type": "markdown",
   "metadata": {},
   "source": [
    "# Step 1: Choose the Color Space"
   ]
  },
  {
   "cell_type": "code",
   "execution_count": 1,
   "metadata": {},
   "outputs": [
    {
     "name": "stdout",
     "output_type": "stream",
     "text": [
      "LAB Colors: [[ 42.04086273  50.1690959  -11.78851093]\n",
      " [ 48.92731173  71.62035248  54.39343178]\n",
      " [ 28.93766141  39.79989265 -69.23665686]]\n"
     ]
    }
   ],
   "source": [
    "from skimage.color import rgb2lab, lab2rgb\n",
    "import numpy as np\n",
    "\n",
    "# Example RGB color (normalized between 0 and 1)\n",
    "rgb_colors = np.array([[0.65, 0.23, 0.47],\n",
    "                       [0.9, 0.1, 0.1],\n",
    "                       [0.1, 0.2, 0.7]])\n",
    "\n",
    "# Convert RGB to CIELAB\n",
    "lab_colors = rgb2lab(rgb_colors)\n",
    "print(\"LAB Colors:\", lab_colors)"
   ]
  },
  {
   "cell_type": "markdown",
   "metadata": {},
   "source": [
    "# Step 2: Generate Color Combinations"
   ]
  },
  {
   "cell_type": "code",
   "execution_count": 2,
   "metadata": {},
   "outputs": [],
   "source": [
    "lab_colors = np.random.rand(1000, 3) * [100, 200, 200] - [0, 100, 100]  # Random LAB colors\n",
    "combinations = [np.random.choice(len(lab_colors), 3, replace=False) for _ in range(100)]\n",
    "color_combos = lab_colors[combinations]"
   ]
  },
  {
   "cell_type": "markdown",
   "metadata": {},
   "source": [
    "# Step 3: Literature Review for Colors Mapping to Emotions"
   ]
  },
  {
   "cell_type": "code",
   "execution_count": null,
   "metadata": {},
   "outputs": [],
   "source": []
  },
  {
   "cell_type": "markdown",
   "metadata": {},
   "source": []
  },
  {
   "cell_type": "markdown",
   "metadata": {},
   "source": []
  },
  {
   "cell_type": "markdown",
   "metadata": {},
   "source": []
  },
  {
   "cell_type": "markdown",
   "metadata": {},
   "source": []
  }
 ],
 "metadata": {
  "kernelspec": {
   "display_name": "Python 3",
   "language": "python",
   "name": "python3"
  },
  "language_info": {
   "codemirror_mode": {
    "name": "ipython",
    "version": 3
   },
   "file_extension": ".py",
   "mimetype": "text/x-python",
   "name": "python",
   "nbconvert_exporter": "python",
   "pygments_lexer": "ipython3",
   "version": "3.12.2"
  }
 },
 "nbformat": 4,
 "nbformat_minor": 2
}
