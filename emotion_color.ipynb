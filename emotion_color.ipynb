{
 "cells": [
  {
   "cell_type": "markdown",
   "metadata": {},
   "source": [
    "# Emotion Color Association Analysis"
   ]
  },
  {
   "cell_type": "markdown",
   "metadata": {},
   "source": [
    "##### This Jupyter notebook is designed to analyze the association between different emotions and colors. The data used in this notebook is based on a research study that asked participants to associate colors with specific emotion words. The results of this study have been compiled into a CSV file, where each row represents a color associated with an emotion word, along with the frequency and percentage of that association.\n",
    "\n",
    "##### By the end of this notebook, we will have a clear understanding of how different emotions are associated with different colors, and we will have a preprocessed dataset that can be used to train a machine learning model to predict emotions based on colors."
   ]
  },
  {
   "cell_type": "markdown",
   "metadata": {},
   "source": [
    "### Load the data \n",
    "- Load into a DataFrame\n",
    "- Print the first few rows of the DataFrame"
   ]
  }
 ],
 "metadata": {
  "language_info": {
   "name": "python"
  }
 },
 "nbformat": 4,
 "nbformat_minor": 2
}
