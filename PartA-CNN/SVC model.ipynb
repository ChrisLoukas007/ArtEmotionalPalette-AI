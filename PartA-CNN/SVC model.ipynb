{
 "cells": [
  {
   "cell_type": "markdown",
   "metadata": {},
   "source": [
    "# Emotion Prediction from RGB Data Using SVC\n",
    "\n",
    "This Jupyter Notebook demonstrates how to predict emotions from RGB data using SVC "
   ]
  },
  {
   "cell_type": "markdown",
   "metadata": {},
   "source": [
    "## 1. Importing Libraries"
   ]
  },
  {
   "cell_type": "code",
   "execution_count": 1,
   "metadata": {},
   "outputs": [],
   "source": [
    "import numpy as np\n",
    "import pandas as pd"
   ]
  },
  {
   "cell_type": "markdown",
   "metadata": {},
   "source": [
    "## 2. Load dataset "
   ]
  },
  {
   "cell_type": "code",
   "execution_count": 4,
   "metadata": {},
   "outputs": [
    {
     "data": {
      "text/html": [
       "<div>\n",
       "<style scoped>\n",
       "    .dataframe tbody tr th:only-of-type {\n",
       "        vertical-align: middle;\n",
       "    }\n",
       "\n",
       "    .dataframe tbody tr th {\n",
       "        vertical-align: top;\n",
       "    }\n",
       "\n",
       "    .dataframe thead th {\n",
       "        text-align: right;\n",
       "    }\n",
       "</style>\n",
       "<table border=\"1\" class=\"dataframe\">\n",
       "  <thead>\n",
       "    <tr style=\"text-align: right;\">\n",
       "      <th></th>\n",
       "      <th>Emotion</th>\n",
       "      <th>RGB1_R</th>\n",
       "      <th>RGB1_G</th>\n",
       "      <th>RGB1_B</th>\n",
       "      <th>RGB2_R</th>\n",
       "      <th>RGB2_G</th>\n",
       "      <th>RGB2_B</th>\n",
       "      <th>RGB3_R</th>\n",
       "      <th>RGB3_G</th>\n",
       "      <th>RGB3_B</th>\n",
       "    </tr>\n",
       "  </thead>\n",
       "  <tbody>\n",
       "    <tr>\n",
       "      <th>0</th>\n",
       "      <td>Bright</td>\n",
       "      <td>229</td>\n",
       "      <td>0</td>\n",
       "      <td>13</td>\n",
       "      <td>225</td>\n",
       "      <td>225</td>\n",
       "      <td>255</td>\n",
       "      <td>253</td>\n",
       "      <td>166.0</td>\n",
       "      <td>74</td>\n",
       "    </tr>\n",
       "    <tr>\n",
       "      <th>1</th>\n",
       "      <td>Festive</td>\n",
       "      <td>229</td>\n",
       "      <td>0</td>\n",
       "      <td>13</td>\n",
       "      <td>225</td>\n",
       "      <td>225</td>\n",
       "      <td>255</td>\n",
       "      <td>255</td>\n",
       "      <td>242.0</td>\n",
       "      <td>0</td>\n",
       "    </tr>\n",
       "    <tr>\n",
       "      <th>2</th>\n",
       "      <td>Lively</td>\n",
       "      <td>229</td>\n",
       "      <td>0</td>\n",
       "      <td>13</td>\n",
       "      <td>225</td>\n",
       "      <td>225</td>\n",
       "      <td>255</td>\n",
       "      <td>26</td>\n",
       "      <td>67.0</td>\n",
       "      <td>155</td>\n",
       "    </tr>\n",
       "    <tr>\n",
       "      <th>3</th>\n",
       "      <td>Hot</td>\n",
       "      <td>229</td>\n",
       "      <td>0</td>\n",
       "      <td>13</td>\n",
       "      <td>138</td>\n",
       "      <td>112</td>\n",
       "      <td>12</td>\n",
       "      <td>255</td>\n",
       "      <td>242.0</td>\n",
       "      <td>0</td>\n",
       "    </tr>\n",
       "    <tr>\n",
       "      <th>4</th>\n",
       "      <td>Vigorous</td>\n",
       "      <td>229</td>\n",
       "      <td>0</td>\n",
       "      <td>13</td>\n",
       "      <td>255</td>\n",
       "      <td>242</td>\n",
       "      <td>0</td>\n",
       "      <td>12</td>\n",
       "      <td>32.0</td>\n",
       "      <td>120</td>\n",
       "    </tr>\n",
       "  </tbody>\n",
       "</table>\n",
       "</div>"
      ],
      "text/plain": [
       "    Emotion RGB1_R  RGB1_G  RGB1_B RGB2_R  RGB2_G RGB2_B RGB3_R  RGB3_G RGB3_B\n",
       "0    Bright    229       0      13    225     225   255    253    166.0    74 \n",
       "1   Festive    229       0      13    225     225   255     255   242.0     0 \n",
       "2    Lively    229       0      13    225     225   255      26    67.0   155 \n",
       "3       Hot    229       0      13    138     112    12     255   242.0     0 \n",
       "4  Vigorous    229       0      13    255     242     0      12    32.0   120 "
      ]
     },
     "execution_count": 4,
     "metadata": {},
     "output_type": "execute_result"
    }
   ],
   "source": [
    "# Load the dataset\n",
    "data = pd.read_csv('real_data.csv')\n",
    "\n",
    "data.head() "
   ]
  }
 ],
 "metadata": {
  "kernelspec": {
   "display_name": "Python 3",
   "language": "python",
   "name": "python3"
  },
  "language_info": {
   "codemirror_mode": {
    "name": "ipython",
    "version": 3
   },
   "file_extension": ".py",
   "mimetype": "text/x-python",
   "name": "python",
   "nbconvert_exporter": "python",
   "pygments_lexer": "ipython3",
   "version": "3.12.2"
  }
 },
 "nbformat": 4,
 "nbformat_minor": 2
}
