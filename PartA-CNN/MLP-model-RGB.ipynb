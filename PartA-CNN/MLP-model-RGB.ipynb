{
 "cells": [
  {
   "cell_type": "markdown",
   "metadata": {},
   "source": [
    "# Multilayer Perception (MLP)"
   ]
  },
  {
   "cell_type": "markdown",
   "metadata": {},
   "source": [
    "- ### Step 1: Import Necessary Libraries\n",
    "  ##### We import all the necessary libraries for data manipulation, model building, and hyperparameter tuning."
   ]
  },
  {
   "cell_type": "code",
   "execution_count": 14,
   "metadata": {},
   "outputs": [],
   "source": [
    "# Import necessary libraries\n",
    "import numpy as np\n",
    "import pandas as pd\n",
    "from sklearn.model_selection import train_test_split\n",
    "from sklearn.preprocessing import LabelEncoder, StandardScaler\n",
    "from tensorflow.keras.models import Sequential\n",
    "from tensorflow.keras.layers import Dense, BatchNormalization, Dropout\n",
    "from tensorflow.keras.optimizers import Adam\n",
    "from tensorflow.keras.utils import to_categorical\n",
    "import kerastuner as kt\n",
    "from tensorflow import keras\n"
   ]
  },
  {
   "cell_type": "markdown",
   "metadata": {},
   "source": [
    "- ### Step 2: Load and Preprocess Data\n",
    "  ##### We load the dataset, preprocess the RGB columns, encode the labels, split the data into training and testing sets, and standardize the features."
   ]
  },
  {
   "cell_type": "code",
   "execution_count": 9,
   "metadata": {},
   "outputs": [
    {
     "data": {
      "text/html": [
       "<div>\n",
       "<style scoped>\n",
       "    .dataframe tbody tr th:only-of-type {\n",
       "        vertical-align: middle;\n",
       "    }\n",
       "\n",
       "    .dataframe tbody tr th {\n",
       "        vertical-align: top;\n",
       "    }\n",
       "\n",
       "    .dataframe thead th {\n",
       "        text-align: right;\n",
       "    }\n",
       "</style>\n",
       "<table border=\"1\" class=\"dataframe\">\n",
       "  <thead>\n",
       "    <tr style=\"text-align: right;\">\n",
       "      <th></th>\n",
       "      <th>Emotional_Word</th>\n",
       "      <th>RGB_1</th>\n",
       "      <th>RGB_2</th>\n",
       "      <th>RGB_3</th>\n",
       "    </tr>\n",
       "  </thead>\n",
       "  <tbody>\n",
       "    <tr>\n",
       "      <th>0</th>\n",
       "      <td>Cute</td>\n",
       "      <td>[251, 167, 157]</td>\n",
       "      <td>[255, 242, 124]</td>\n",
       "      <td>[179, 22, 61]</td>\n",
       "    </tr>\n",
       "    <tr>\n",
       "      <th>1</th>\n",
       "      <td>Childlike</td>\n",
       "      <td>[251, 103, 89]</td>\n",
       "      <td>[255, 242, 124]</td>\n",
       "      <td>[153, 216, 212]</td>\n",
       "    </tr>\n",
       "    <tr>\n",
       "      <th>2</th>\n",
       "      <td>Pretty</td>\n",
       "      <td>[251, 167, 157]</td>\n",
       "      <td>[255, 242, 63]</td>\n",
       "      <td>[78, 181, 135]</td>\n",
       "    </tr>\n",
       "    <tr>\n",
       "      <th>3</th>\n",
       "      <td>Sweet</td>\n",
       "      <td>[251, 103, 89]</td>\n",
       "      <td>[253, 192, 145]</td>\n",
       "      <td>[251, 174, 193]</td>\n",
       "    </tr>\n",
       "    <tr>\n",
       "      <th>4</th>\n",
       "      <td>Amusing</td>\n",
       "      <td>[253, 166, 74]</td>\n",
       "      <td>[140, 201, 25]</td>\n",
       "      <td>[90, 177, 132]</td>\n",
       "    </tr>\n",
       "  </tbody>\n",
       "</table>\n",
       "</div>"
      ],
      "text/plain": [
       "  Emotional_Word            RGB_1            RGB_2            RGB_3\n",
       "0           Cute  [251, 167, 157]  [255, 242, 124]    [179, 22, 61]\n",
       "1      Childlike   [251, 103, 89]  [255, 242, 124]  [153, 216, 212]\n",
       "2         Pretty  [251, 167, 157]   [255, 242, 63]   [78, 181, 135]\n",
       "3          Sweet   [251, 103, 89]  [253, 192, 145]  [251, 174, 193]\n",
       "4        Amusing   [253, 166, 74]   [140, 201, 25]   [90, 177, 132]"
      ]
     },
     "execution_count": 9,
     "metadata": {},
     "output_type": "execute_result"
    }
   ],
   "source": [
    "#Initial form of the data \n",
    "data = pd.read_csv('demmo_data.csv')\n",
    "\n",
    "data.head()"
   ]
  },
  {
   "cell_type": "code",
   "execution_count": 10,
   "metadata": {},
   "outputs": [
    {
     "data": {
      "text/html": [
       "<div>\n",
       "<style scoped>\n",
       "    .dataframe tbody tr th:only-of-type {\n",
       "        vertical-align: middle;\n",
       "    }\n",
       "\n",
       "    .dataframe tbody tr th {\n",
       "        vertical-align: top;\n",
       "    }\n",
       "\n",
       "    .dataframe thead th {\n",
       "        text-align: right;\n",
       "    }\n",
       "</style>\n",
       "<table border=\"1\" class=\"dataframe\">\n",
       "  <thead>\n",
       "    <tr style=\"text-align: right;\">\n",
       "      <th></th>\n",
       "      <th>Emotional_Word</th>\n",
       "      <th>RGB_1</th>\n",
       "      <th>RGB_2</th>\n",
       "      <th>RGB_3</th>\n",
       "    </tr>\n",
       "  </thead>\n",
       "  <tbody>\n",
       "    <tr>\n",
       "      <th>0</th>\n",
       "      <td>Cute</td>\n",
       "      <td>[251, 167, 157]</td>\n",
       "      <td>[255, 242, 124]</td>\n",
       "      <td>[179, 22, 61]</td>\n",
       "    </tr>\n",
       "    <tr>\n",
       "      <th>1</th>\n",
       "      <td>Childlike</td>\n",
       "      <td>[251, 103, 89]</td>\n",
       "      <td>[255, 242, 124]</td>\n",
       "      <td>[153, 216, 212]</td>\n",
       "    </tr>\n",
       "    <tr>\n",
       "      <th>2</th>\n",
       "      <td>Pretty</td>\n",
       "      <td>[251, 167, 157]</td>\n",
       "      <td>[255, 242, 63]</td>\n",
       "      <td>[78, 181, 135]</td>\n",
       "    </tr>\n",
       "    <tr>\n",
       "      <th>3</th>\n",
       "      <td>Sweet</td>\n",
       "      <td>[251, 103, 89]</td>\n",
       "      <td>[253, 192, 145]</td>\n",
       "      <td>[251, 174, 193]</td>\n",
       "    </tr>\n",
       "    <tr>\n",
       "      <th>4</th>\n",
       "      <td>Amusing</td>\n",
       "      <td>[253, 166, 74]</td>\n",
       "      <td>[140, 201, 25]</td>\n",
       "      <td>[90, 177, 132]</td>\n",
       "    </tr>\n",
       "  </tbody>\n",
       "</table>\n",
       "</div>"
      ],
      "text/plain": [
       "  Emotional_Word            RGB_1            RGB_2            RGB_3\n",
       "0           Cute  [251, 167, 157]  [255, 242, 124]    [179, 22, 61]\n",
       "1      Childlike   [251, 103, 89]  [255, 242, 124]  [153, 216, 212]\n",
       "2         Pretty  [251, 167, 157]   [255, 242, 63]   [78, 181, 135]\n",
       "3          Sweet   [251, 103, 89]  [253, 192, 145]  [251, 174, 193]\n",
       "4        Amusing   [253, 166, 74]   [140, 201, 25]   [90, 177, 132]"
      ]
     },
     "execution_count": 10,
     "metadata": {},
     "output_type": "execute_result"
    }
   ],
   "source": [
    "# Preprocess RGB columns\n",
    "data['RGB_1'] = data['RGB_1'].apply(lambda x: eval(x))\n",
    "data['RGB_2'] = data['RGB_2'].apply(lambda x: eval(x))\n",
    "data['RGB_3'] = data['RGB_3'].apply(lambda x: eval(x))\n",
    "\n",
    "# Extract features and labels\n",
    "X = np.hstack([np.vstack(data['RGB_1']), np.vstack(data['RGB_2']), np.vstack(data['RGB_3'])])\n",
    "y = data['Emotional_Word']\n",
    "\n",
    "data.head()"
   ]
  },
  {
   "cell_type": "markdown",
   "metadata": {},
   "source": [
    "- ### Step 3: Encode Labels and Split Data\n",
    "  ##### Encode the labels, split the data into training and testing sets, and standardize the features."
   ]
  },
  {
   "cell_type": "code",
   "execution_count": 11,
   "metadata": {},
   "outputs": [],
   "source": [
    "# Extract features and labels\n",
    "X = np.hstack([np.vstack(data['RGB_1']), np.vstack(data['RGB_2']), np.vstack(data['RGB_3'])])\n",
    "y = data['Emotional_Word']\n",
    "\n",
    "# Encode labels\n",
    "label_encoder = LabelEncoder()\n",
    "y_encoded = label_encoder.fit_transform(y)\n",
    "y_categorical = to_categorical(y_encoded)\n",
    "\n",
    "# Split data\n",
    "X_train, X_test, y_train, y_test = train_test_split(X, y_categorical, test_size=0.2, random_state=42)\n",
    "\n",
    "# Standardize data\n",
    "scaler = StandardScaler()\n",
    "X_train = scaler.fit_transform(X_train)\n",
    "X_test = scaler.transform(X_test)\n"
   ]
  },
  {
   "cell_type": "markdown",
   "metadata": {},
   "source": [
    "- ### Step 4: Define the Model Building Function for Keras Tuner\n",
    "  ##### This function defines the MLP model and includes hyperparameters for tuning the number of units, dropout rate, number of layers, and learning rate."
   ]
  },
  {
   "cell_type": "code",
   "execution_count": 15,
   "metadata": {},
   "outputs": [],
   "source": [
    "def build_model(hp):\n",
    "    model = Sequential()\n",
    "    model.add(Dense(units=hp.Int('units', min_value=32, max_value=512, step=32), activation='relu', input_shape=(9,)))\n",
    "    model.add(BatchNormalization())\n",
    "    model.add(Dropout(hp.Float('dropout', 0, 0.5, step=0.1)))\n",
    "    \n",
    "    for i in range(hp.Int('num_layers', 1, 4)):\n",
    "        model.add(Dense(units=hp.Int('units_' + str(i), min_value=32, max_value=512, step=32), activation='relu'))\n",
    "        model.add(BatchNormalization())\n",
    "        model.add(Dropout(hp.Float('dropout_' + str(i), 0, 0.5, step=0.1)))\n",
    "    \n",
    "    model.add(Dense(len(label_encoder.classes_), activation='softmax'))\n",
    "    \n",
    "    model.compile(optimizer=Adam(hp.Choice('learning_rate', values=[1e-2, 1e-3, 1e-4])),\n",
    "                  loss='categorical_crossentropy',\n",
    "                  metrics=['accuracy'])\n",
    "    \n",
    "    return model\n"
   ]
  },
  {
   "cell_type": "markdown",
   "metadata": {},
   "source": [
    "- ### Step  5: Initialize the Keras Tuner and Search for the Best Hyperparameters\n",
    "  ##### We initialize the Keras Tuner and search for the best hyperparameters using the training and validation data."
   ]
  },
  {
   "cell_type": "code",
   "execution_count": 16,
   "metadata": {},
   "outputs": [
    {
     "name": "stdout",
     "output_type": "stream",
     "text": [
      "Trial 30 Complete [00h 00m 06s]\n",
      "val_accuracy: 0.0\n",
      "\n",
      "Best val_accuracy So Far: 0.043478261679410934\n",
      "Total elapsed time: 00h 02m 16s\n"
     ]
    }
   ],
   "source": [
    "# Initialize Keras Tuner\n",
    "tuner = kt.Hyperband(build_model,\n",
    "                     objective='val_accuracy',\n",
    "                     max_epochs=20,\n",
    "                     factor=3,\n",
    "                     directory='my_dir',\n",
    "                     project_name='emotion_prediction')\n",
    "\n",
    "# Search for the best hyperparameters\n",
    "tuner.search(X_train, y_train, epochs=50, validation_data=(X_test, y_test), callbacks=[keras.callbacks.EarlyStopping(patience=5)])\n"
   ]
  },
  {
   "cell_type": "markdown",
   "metadata": {},
   "source": [
    "- ### Step 6: Retrieve the Best Model and Train it\n",
    "  ##### We retrieve the best model found by the Keras Tuner and train it using the training data."
   ]
  },
  {
   "cell_type": "code",
   "execution_count": 17,
   "metadata": {},
   "outputs": [
    {
     "name": "stdout",
     "output_type": "stream",
     "text": [
      "Epoch 1/50\n",
      "\u001b[1m6/6\u001b[0m \u001b[32m━━━━━━━━━━━━━━━━━━━━\u001b[0m\u001b[37m\u001b[0m \u001b[1m4s\u001b[0m 67ms/step - accuracy: 0.0151 - loss: 4.7875 - val_accuracy: 0.0217 - val_loss: 5.0673\n",
      "Epoch 2/50\n",
      "\u001b[1m6/6\u001b[0m \u001b[32m━━━━━━━━━━━━━━━━━━━━\u001b[0m\u001b[37m\u001b[0m \u001b[1m0s\u001b[0m 25ms/step - accuracy: 0.1347 - loss: 4.0615 - val_accuracy: 0.0000e+00 - val_loss: 5.0844\n",
      "Epoch 3/50\n",
      "\u001b[1m6/6\u001b[0m \u001b[32m━━━━━━━━━━━━━━━━━━━━\u001b[0m\u001b[37m\u001b[0m \u001b[1m0s\u001b[0m 26ms/step - accuracy: 0.2043 - loss: 3.6472 - val_accuracy: 0.0000e+00 - val_loss: 5.1034\n",
      "Epoch 4/50\n",
      "\u001b[1m6/6\u001b[0m \u001b[32m━━━━━━━━━━━━━━━━━━━━\u001b[0m\u001b[37m\u001b[0m \u001b[1m0s\u001b[0m 24ms/step - accuracy: 0.2109 - loss: 3.3158 - val_accuracy: 0.0000e+00 - val_loss: 5.1272\n",
      "Epoch 5/50\n",
      "\u001b[1m6/6\u001b[0m \u001b[32m━━━━━━━━━━━━━━━━━━━━\u001b[0m\u001b[37m\u001b[0m \u001b[1m0s\u001b[0m 24ms/step - accuracy: 0.2631 - loss: 2.9359 - val_accuracy: 0.0000e+00 - val_loss: 5.1588\n",
      "Epoch 6/50\n",
      "\u001b[1m6/6\u001b[0m \u001b[32m━━━━━━━━━━━━━━━━━━━━\u001b[0m\u001b[37m\u001b[0m \u001b[1m0s\u001b[0m 26ms/step - accuracy: 0.3600 - loss: 2.5519 - val_accuracy: 0.0000e+00 - val_loss: 5.1870\n"
     ]
    }
   ],
   "source": [
    "# Retrieve the best model\n",
    "best_model = tuner.get_best_models(num_models=1)[0]\n",
    "\n",
    "# Train the best model\n",
    "history = best_model.fit(X_train, y_train, epochs=50, validation_data=(X_test, y_test), callbacks=[keras.callbacks.EarlyStopping(patience=5)])\n"
   ]
  },
  {
   "cell_type": "markdown",
   "metadata": {},
   "source": [
    "- ### Step 7: Evaluate the Model\n",
    "  ##### We evaluate the trained model on the test data and print the test accuracy."
   ]
  },
  {
   "cell_type": "code",
   "execution_count": 18,
   "metadata": {},
   "outputs": [
    {
     "name": "stdout",
     "output_type": "stream",
     "text": [
      "\u001b[1m1/1\u001b[0m \u001b[32m━━━━━━━━━━━━━━━━━━━━\u001b[0m\u001b[37m\u001b[0m \u001b[1m0s\u001b[0m 353ms/step\n",
      "Cute\n"
     ]
    }
   ],
   "source": [
    "# Function to predict emotional word based on new RGB values\n",
    "def predict_emotion(rgb1, rgb2, rgb3):\n",
    "    rgb_values = np.hstack([rgb1, rgb2, rgb3]).reshape(1, -1)\n",
    "    rgb_values = scaler.transform(rgb_values)\n",
    "    prediction = best_model.predict(rgb_values)\n",
    "    predicted_label = label_encoder.inverse_transform([np.argmax(prediction)])\n",
    "    return predicted_label[0]\n",
    "\n",
    "# Example prediction\n",
    "new_rgb1 = [251, 167, 157]\n",
    "new_rgb2 = [255, 242, 124]\n",
    "new_rgb3 = [179, 22, 61]\n",
    "print(predict_emotion(new_rgb1, new_rgb2, new_rgb3))\n"
   ]
  },
  {
   "cell_type": "markdown",
   "metadata": {},
   "source": [
    "- ### Step 8: Save and Load the Model\n",
    "  ##### Save the trained model to a file for future use, and show how to load it back when needed."
   ]
  },
  {
   "cell_type": "markdown",
   "metadata": {},
   "source": [
    " - ### Step 9: Make Predictions\n",
    "   #####  Define a function to predict the emotional word based on new RGB values by processing the input and using the trained model."
   ]
  }
 ],
 "metadata": {
  "kernelspec": {
   "display_name": "Python 3",
   "language": "python",
   "name": "python3"
  },
  "language_info": {
   "codemirror_mode": {
    "name": "ipython",
    "version": 3
   },
   "file_extension": ".py",
   "mimetype": "text/x-python",
   "name": "python",
   "nbconvert_exporter": "python",
   "pygments_lexer": "ipython3",
   "version": "3.12.2"
  }
 },
 "nbformat": 4,
 "nbformat_minor": 2
}
