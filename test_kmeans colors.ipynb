{
 "cells": [
  {
   "cell_type": "markdown",
   "metadata": {},
   "source": [
    "# Short K_Menas algorithm in order to test images QUICK!"
   ]
  },
  {
   "cell_type": "markdown",
   "metadata": {},
   "source": []
  },
  {
   "cell_type": "markdown",
   "metadata": {},
   "source": [
    "## Import libraries"
   ]
  },
  {
   "cell_type": "code",
   "execution_count": 1,
   "metadata": {},
   "outputs": [],
   "source": [
    "from sklearn.cluster import KMeans\n",
    "import matplotlib.pyplot as plt\n",
    "from mpl_toolkits.mplot3d import Axes3D\n",
    "import numpy as np\n",
    "import cv2\n",
    "from collections import Counter\n",
    "from skimage.color import rgb2lab, deltaE_cie76\n",
    "import os"
   ]
  },
  {
   "cell_type": "markdown",
   "metadata": {},
   "source": [
    "## Load the image and convert from RGB to HEX "
   ]
  },
  {
   "cell_type": "code",
   "execution_count": 2,
   "metadata": {},
   "outputs": [],
   "source": [
    "def RGB2HEX(color):\n",
    "    return \"#{:02x}{:02x}{:02x}\".format(int(color[0]), int(color[1]), int(color[2]))\n",
    "\n",
    "# Here laod the image\n",
    "def load_image(image_path):\n",
    "    image = cv2.imread(image_path)\n",
    "    image = cv2.cvtColor(image, cv2.COLOR_BGR2RGB)\n",
    "    return image"
   ]
  },
  {
   "cell_type": "markdown",
   "metadata": {},
   "source": [
    "## Plot the image BEFORE"
   ]
  },
  {
   "cell_type": "code",
   "execution_count": 3,
   "metadata": {},
   "outputs": [
    {
     "ename": "NameError",
     "evalue": "name 'image' is not defined",
     "output_type": "error",
     "traceback": [
      "\u001b[1;31m---------------------------------------------------------------------------\u001b[0m",
      "\u001b[1;31mNameError\u001b[0m                                 Traceback (most recent call last)",
      "Cell \u001b[1;32mIn[3], line 4\u001b[0m\n\u001b[0;32m      1\u001b[0m get_ipython()\u001b[38;5;241m.\u001b[39mrun_line_magic(\u001b[38;5;124m'\u001b[39m\u001b[38;5;124mmatplotlib\u001b[39m\u001b[38;5;124m'\u001b[39m, \u001b[38;5;124m'\u001b[39m\u001b[38;5;124minline\u001b[39m\u001b[38;5;124m'\u001b[39m)\n\u001b[0;32m      3\u001b[0m \u001b[38;5;66;03m#get rgb values from image to 1D array\u001b[39;00m\n\u001b[1;32m----> 4\u001b[0m r, g, b \u001b[38;5;241m=\u001b[39m cv2\u001b[38;5;241m.\u001b[39msplit(\u001b[43mimage\u001b[49m)\n\u001b[0;32m      5\u001b[0m r \u001b[38;5;241m=\u001b[39m r\u001b[38;5;241m.\u001b[39mflatten()\n\u001b[0;32m      6\u001b[0m g \u001b[38;5;241m=\u001b[39m g\u001b[38;5;241m.\u001b[39mflatten()\n",
      "\u001b[1;31mNameError\u001b[0m: name 'image' is not defined"
     ]
    }
   ],
   "source": [
    "%matplotlib inline\n",
    "\n",
    "#get rgb values from image to 1D array\n",
    "r, g, b = cv2.split(image)\n",
    "r = r.flatten()\n",
    "g = g.flatten()\n",
    "b = b.flatten()\n",
    "\n",
    "#plotting \n",
    "fig = plt.figure()\n",
    "ax = fig.add_subplot(projection='3d')\n",
    "ax.scatter(r, g, b)\n",
    "plt.show()"
   ]
  },
  {
   "cell_type": "markdown",
   "metadata": {},
   "source": [
    "## Kmean algorithm with ELBOW Method"
   ]
  },
  {
   "cell_type": "code",
   "execution_count": null,
   "metadata": {},
   "outputs": [],
   "source": [
    "from kneed import KneeLocator # to find the elbow point in the elbow method\n",
    "\n",
    "def extract_colors_elbow(image, show_chart):\n",
    "    # resize and reshape the image as before\n",
    "    modified_image = cv2.resize(image, (600, 400), interpolation = cv2.INTER_AREA)\n",
    "    modified_image = modified_image.reshape(modified_image.shape[0]*modified_image.shape[1], 3) # reshape the image to 2D array ( where each row is a pixel and each column is \n",
    "    # a color channel RGB ) to be able to use it in the elbow method to find the optimal number of clusters\n",
    "\n",
    "    # use the elbow method to find the optimal number of clusters\n",
    "    distortions = [] # to store the distortions - the sum of the squared distances between each member of the cluster and its centroid\n",
    "    K = range(1,10) # the range of the number of clusters - OPTIMAL NUMBER\n",
    "    for k in K: # for each number of clusters\n",
    "        kmeanModel = KMeans(n_clusters=k, n_init=10) # create the model\n",
    "        kmeanModel.fit(modified_image) # fit the model to the image data\n",
    "        distortions.append(kmeanModel.inertia_) # append the distortion to the list\n",
    "\n",
    "    # plot the elbow\n",
    "    plt.figure(figsize=(16,8))\n",
    "    plt.plot(K, distortions, 'bx-') # plot the number of clusters vs the distortions\n",
    "    plt.xlabel('k')\n",
    "    plt.ylabel('Distortion')\n",
    "    plt.title('The Elbow Method showing the optimal k')\n",
    "    plt.show()\n",
    "\n",
    "    # find the elbow point\n",
    "    kn = KneeLocator(K, distortions, curve='convex', direction='decreasing')\n",
    "    number_of_colors = kn.knee # get the optimal number of clusters\n",
    "    \n",
    "    # Print the optimal number of clusters\n",
    "    print(f'The optimal number of clusters is {number_of_colors}')\n",
    "\n",
    "    # create the model with the optimal number of clusters\n",
    "    clf = KMeans(n_clusters = number_of_colors, n_init=10)\n",
    "    labels = clf.fit_predict(modified_image) # fit the model to the image data and predicts the cluster for each pixel\n",
    "\n",
    "    counts = Counter(labels) # counts the number of pixels in each cluster\n",
    "    counts = dict(sorted(counts.items())) # sort the counts by cluster number\n",
    "\n",
    "    center_colors = clf.cluster_centers_ # get the cluster centers- the center color of each cluster\n",
    "    ordered_colors = [center_colors[i] for i in counts.keys()] # orders the colors according to the sorted keys of the counts dictionary\n",
    "    hex_colors = [RGB2HEX(ordered_colors[i]) for i in counts.keys()] # converts the RGB colors to HEX\n",
    "    rgb_colors = [ordered_colors[i] for i in counts.keys()] # gets the RGB colors\n",
    "\n",
    "    if (show_chart):\n",
    "        plt.figure(figsize = (8, 6))\n",
    "        plt.pie(counts.values(), labels = hex_colors, colors = hex_colors)\n",
    "\n",
    "    return np.array(rgb_colors) ,labels,modified_image"
   ]
  },
  {
   "cell_type": "markdown",
   "metadata": {},
   "source": [
    "## Run it!"
   ]
  },
  {
   "cell_type": "code",
   "execution_count": null,
   "metadata": {},
   "outputs": [],
   "source": [
    "# Extract the dominant colors and their corresponding labels\n",
    "rgb_colors, labels, modified_image = extract_colors_elbow(load_image(r'images_jpg\\2.jpg'), True)\n",
    "# Visualize the clusters\n",
    "visualize_clusters(modified_image, labels, rgb_colors)"
   ]
  }
 ],
 "metadata": {
  "kernelspec": {
   "display_name": "Python 3",
   "language": "python",
   "name": "python3"
  },
  "language_info": {
   "codemirror_mode": {
    "name": "ipython",
    "version": 3
   },
   "file_extension": ".py",
   "mimetype": "text/x-python",
   "name": "python",
   "nbconvert_exporter": "python",
   "pygments_lexer": "ipython3",
   "version": "3.12.2"
  }
 },
 "nbformat": 4,
 "nbformat_minor": 2
}
